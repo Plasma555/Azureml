{
  "cells": [
    {
      "cell_type": "code",
      "execution_count": null,
      "metadata": {
        "colab": {
          "base_uri": "https://localhost:8080/"
        },
        "id": "QNWngr9iHcz6",
        "outputId": "0cc93cec-fc20-4d37-f964-b08c761060a5"
      },
      "outputs": [
        {
          "name": "stdout",
          "output_type": "stream",
          "text": [
            "Looking in indexes: https://pypi.org/simple, https://us-python.pkg.dev/colab-wheels/public/simple/\n",
            "Collecting azureml\n",
            "  Downloading azureml-0.2.7-py2.py3-none-any.whl (23 kB)\n",
            "Requirement already satisfied: pandas in /usr/local/lib/python3.10/dist-packages (from azureml) (1.5.3)\n",
            "Requirement already satisfied: python-dateutil in /usr/local/lib/python3.10/dist-packages (from azureml) (2.8.2)\n",
            "Requirement already satisfied: requests in /usr/local/lib/python3.10/dist-packages (from azureml) (2.27.1)\n",
            "Requirement already satisfied: pytz>=2020.1 in /usr/local/lib/python3.10/dist-packages (from pandas->azureml) (2022.7.1)\n",
            "Requirement already satisfied: numpy>=1.21.0 in /usr/local/lib/python3.10/dist-packages (from pandas->azureml) (1.22.4)\n",
            "Requirement already satisfied: six>=1.5 in /usr/local/lib/python3.10/dist-packages (from python-dateutil->azureml) (1.16.0)\n",
            "Requirement already satisfied: urllib3<1.27,>=1.21.1 in /usr/local/lib/python3.10/dist-packages (from requests->azureml) (1.26.15)\n",
            "Requirement already satisfied: certifi>=2017.4.17 in /usr/local/lib/python3.10/dist-packages (from requests->azureml) (2022.12.7)\n",
            "Requirement already satisfied: charset-normalizer~=2.0.0 in /usr/local/lib/python3.10/dist-packages (from requests->azureml) (2.0.12)\n",
            "Requirement already satisfied: idna<4,>=2.5 in /usr/local/lib/python3.10/dist-packages (from requests->azureml) (3.4)\n",
            "Installing collected packages: azureml\n",
            "Successfully installed azureml-0.2.7\n",
            "Looking in indexes: https://pypi.org/simple, https://us-python.pkg.dev/colab-wheels/public/simple/\n",
            "Collecting azureml-core\n",
            "  Downloading azureml_core-1.51.0-py3-none-any.whl (3.3 MB)\n",
            "\u001b[2K     \u001b[90m━━━━━━━━━━━━━━━━━━━━━━━━━━━━━━━━━━━━━━━━\u001b[0m \u001b[32m3.3/3.3 MB\u001b[0m \u001b[31m31.0 MB/s\u001b[0m eta \u001b[36m0:00:00\u001b[0m\n",
            "\u001b[?25hRequirement already satisfied: pytz in /usr/local/lib/python3.10/dist-packages (from azureml-core) (2022.7.1)\n",
            "Collecting backports.tempfile (from azureml-core)\n",
            "  Downloading backports.tempfile-1.0-py2.py3-none-any.whl (4.4 kB)\n",
            "Collecting pathspec<1.0.0 (from azureml-core)\n",
            "  Downloading pathspec-0.11.1-py3-none-any.whl (29 kB)\n",
            "Requirement already satisfied: requests[socks]<3.0.0,>=2.19.1 in /usr/local/lib/python3.10/dist-packages (from azureml-core) (2.27.1)\n",
            "Collecting msal<2.0.0,>=1.15.0 (from azureml-core)\n",
            "  Downloading msal-1.22.0-py2.py3-none-any.whl (90 kB)\n",
            "\u001b[2K     \u001b[90m━━━━━━━━━━━━━━━━━━━━━━━━━━━━━━━━━━━━━━━━\u001b[0m \u001b[32m90.0/90.0 kB\u001b[0m \u001b[31m8.8 MB/s\u001b[0m eta \u001b[36m0:00:00\u001b[0m\n",
            "\u001b[?25hCollecting msal-extensions<=1.0.0,>=0.3.0 (from azureml-core)\n",
            "  Downloading msal_extensions-1.0.0-py2.py3-none-any.whl (19 kB)\n",
            "Collecting knack~=0.10.0 (from azureml-core)\n",
            "  Downloading knack-0.10.1-py3-none-any.whl (61 kB)\n",
            "\u001b[2K     \u001b[90m━━━━━━━━━━━━━━━━━━━━━━━━━━━━━━━━━━━━━━━━\u001b[0m \u001b[32m61.1/61.1 kB\u001b[0m \u001b[31m6.5 MB/s\u001b[0m eta \u001b[36m0:00:00\u001b[0m\n",
            "\u001b[?25hCollecting azure-core<2.0.0 (from azureml-core)\n",
            "  Downloading azure_core-1.27.0-py3-none-any.whl (174 kB)\n",
            "\u001b[2K     \u001b[90m━━━━━━━━━━━━━━━━━━━━━━━━━━━━━━━━━━━━━━\u001b[0m \u001b[32m174.2/174.2 kB\u001b[0m \u001b[31m16.3 MB/s\u001b[0m eta \u001b[36m0:00:00\u001b[0m\n",
            "\u001b[?25hCollecting pkginfo (from azureml-core)\n",
            "  Downloading pkginfo-1.9.6-py3-none-any.whl (30 kB)\n",
            "Collecting argcomplete<3 (from azureml-core)\n",
            "  Downloading argcomplete-2.1.2-py3-none-any.whl (37 kB)\n",
            "Collecting humanfriendly<11.0,>=4.7 (from azureml-core)\n",
            "  Downloading humanfriendly-10.0-py2.py3-none-any.whl (86 kB)\n",
            "\u001b[2K     \u001b[90m━━━━━━━━━━━━━━━━━━━━━━━━━━━━━━━━━━━━━━━━\u001b[0m \u001b[32m86.8/86.8 kB\u001b[0m \u001b[31m8.6 MB/s\u001b[0m eta \u001b[36m0:00:00\u001b[0m\n",
            "\u001b[?25hCollecting paramiko<4.0.0,>=2.0.8 (from azureml-core)\n",
            "  Downloading paramiko-3.2.0-py3-none-any.whl (224 kB)\n",
            "\u001b[2K     \u001b[90m━━━━━━━━━━━━━━━━━━━━━━━━━━━━━━━━━━━━━━\u001b[0m \u001b[32m224.2/224.2 kB\u001b[0m \u001b[31m19.3 MB/s\u001b[0m eta \u001b[36m0:00:00\u001b[0m\n",
            "\u001b[?25hCollecting azure-mgmt-resource<=22.0.0,>=15.0.0 (from azureml-core)\n",
            "  Downloading azure_mgmt_resource-22.0.0-py3-none-any.whl (2.4 MB)\n",
            "\u001b[2K     \u001b[90m━━━━━━━━━━━━━━━━━━━━━━━━━━━━━━━━━━━━━━━━\u001b[0m \u001b[32m2.4/2.4 MB\u001b[0m \u001b[31m77.1 MB/s\u001b[0m eta \u001b[36m0:00:00\u001b[0m\n",
            "\u001b[?25hCollecting azure-mgmt-containerregistry<11,>=8.2.0 (from azureml-core)\n",
            "  Downloading azure_mgmt_containerregistry-10.1.0-py3-none-any.whl (1.7 MB)\n",
            "\u001b[2K     \u001b[90m━━━━━━━━━━━━━━━━━━━━━━━━━━━━━━━━━━━━━━━━\u001b[0m \u001b[32m1.7/1.7 MB\u001b[0m \u001b[31m71.7 MB/s\u001b[0m eta \u001b[36m0:00:00\u001b[0m\n",
            "\u001b[?25hCollecting azure-mgmt-storage<=21.0.0,>=16.0.0 (from azureml-core)\n",
            "  Downloading azure_mgmt_storage-21.0.0-py3-none-any.whl (2.8 MB)\n",
            "\u001b[2K     \u001b[90m━━━━━━━━━━━━━━━━━━━━━━━━━━━━━━━━━━━━━━━━\u001b[0m \u001b[32m2.8/2.8 MB\u001b[0m \u001b[31m86.2 MB/s\u001b[0m eta \u001b[36m0:00:00\u001b[0m\n",
            "\u001b[?25hCollecting azure-mgmt-keyvault<11.0.0,>=0.40.0 (from azureml-core)\n",
            "  Downloading azure_mgmt_keyvault-10.2.2-py3-none-any.whl (780 kB)\n",
            "\u001b[2K     \u001b[90m━━━━━━━━━━━━━━━━━━━━━━━━━━━━━━━━━━━━━━\u001b[0m \u001b[32m780.2/780.2 kB\u001b[0m \u001b[31m56.0 MB/s\u001b[0m eta \u001b[36m0:00:00\u001b[0m\n",
            "\u001b[?25hCollecting azure-mgmt-authorization<4,>=0.40.0 (from azureml-core)\n",
            "  Downloading azure_mgmt_authorization-3.0.0-py3-none-any.whl (965 kB)\n",
            "\u001b[2K     \u001b[90m━━━━━━━━━━━━━━━━━━━━━━━━━━━━━━━━━━━━━━\u001b[0m \u001b[32m965.9/965.9 kB\u001b[0m \u001b[31m61.2 MB/s\u001b[0m eta \u001b[36m0:00:00\u001b[0m\n",
            "\u001b[?25hCollecting azure-graphrbac<1.0.0,>=0.40.0 (from azureml-core)\n",
            "  Downloading azure_graphrbac-0.61.1-py2.py3-none-any.whl (141 kB)\n",
            "\u001b[2K     \u001b[90m━━━━━━━━━━━━━━━━━━━━━━━━━━━━━━━━━━━━━━\u001b[0m \u001b[32m141.4/141.4 kB\u001b[0m \u001b[31m14.4 MB/s\u001b[0m eta \u001b[36m0:00:00\u001b[0m\n",
            "\u001b[?25hCollecting azure-common<2.0.0,>=1.1.12 (from azureml-core)\n",
            "  Downloading azure_common-1.1.28-py2.py3-none-any.whl (14 kB)\n",
            "Collecting msrest<=0.7.1,>=0.5.1 (from azureml-core)\n",
            "  Downloading msrest-0.7.1-py3-none-any.whl (85 kB)\n",
            "\u001b[2K     \u001b[90m━━━━━━━━━━━━━━━━━━━━━━━━━━━━━━━━━━━━━━━━\u001b[0m \u001b[32m85.4/85.4 kB\u001b[0m \u001b[31m9.0 MB/s\u001b[0m eta \u001b[36m0:00:00\u001b[0m\n",
            "\u001b[?25hCollecting msrestazure<=0.6.4,>=0.4.33 (from azureml-core)\n",
            "  Downloading msrestazure-0.6.4-py2.py3-none-any.whl (40 kB)\n",
            "\u001b[2K     \u001b[90m━━━━━━━━━━━━━━━━━━━━━━━━━━━━━━━━━━━━━━━━\u001b[0m \u001b[32m40.5/40.5 kB\u001b[0m \u001b[31m4.1 MB/s\u001b[0m eta \u001b[36m0:00:00\u001b[0m\n",
            "\u001b[?25hRequirement already satisfied: urllib3<2.0.0,>=1.23 in /usr/local/lib/python3.10/dist-packages (from azureml-core) (1.26.15)\n",
            "Collecting packaging<=23.0,>=20.0 (from azureml-core)\n",
            "  Downloading packaging-23.0-py3-none-any.whl (42 kB)\n",
            "\u001b[2K     \u001b[90m━━━━━━━━━━━━━━━━━━━━━━━━━━━━━━━━━━━━━━━━\u001b[0m \u001b[32m42.7/42.7 kB\u001b[0m \u001b[31m4.1 MB/s\u001b[0m eta \u001b[36m0:00:00\u001b[0m\n",
            "\u001b[?25hRequirement already satisfied: cryptography!=1.9,!=2.0.*,!=2.1.*,!=2.2.*,<41 in /usr/local/lib/python3.10/dist-packages (from azureml-core) (40.0.2)\n",
            "Requirement already satisfied: python-dateutil<3.0.0,>=2.7.3 in /usr/local/lib/python3.10/dist-packages (from azureml-core) (2.8.2)\n",
            "Collecting ndg-httpsclient<=0.5.1 (from azureml-core)\n",
            "  Downloading ndg_httpsclient-0.5.1-py3-none-any.whl (34 kB)\n",
            "Collecting SecretStorage<4.0.0 (from azureml-core)\n",
            "  Downloading SecretStorage-3.3.3-py3-none-any.whl (15 kB)\n",
            "Requirement already satisfied: jsonpickle<4.0.0 in /usr/local/lib/python3.10/dist-packages (from azureml-core) (3.0.1)\n",
            "Requirement already satisfied: contextlib2<22.0.0 in /usr/local/lib/python3.10/dist-packages (from azureml-core) (0.6.0.post1)\n",
            "Collecting docker<7.0.0 (from azureml-core)\n",
            "  Downloading docker-6.1.3-py3-none-any.whl (148 kB)\n",
            "\u001b[2K     \u001b[90m━━━━━━━━━━━━━━━━━━━━━━━━━━━━━━━━━━━━━━\u001b[0m \u001b[32m148.1/148.1 kB\u001b[0m \u001b[31m15.2 MB/s\u001b[0m eta \u001b[36m0:00:00\u001b[0m\n",
            "\u001b[?25hCollecting PyJWT<3.0.0 (from azureml-core)\n",
            "  Downloading PyJWT-2.7.0-py3-none-any.whl (22 kB)\n",
            "Collecting adal<=1.2.7,>=1.2.0 (from azureml-core)\n",
            "  Downloading adal-1.2.7-py2.py3-none-any.whl (55 kB)\n",
            "\u001b[2K     \u001b[90m━━━━━━━━━━━━━━━━━━━━━━━━━━━━━━━━━━━━━━━━\u001b[0m \u001b[32m55.5/55.5 kB\u001b[0m \u001b[31m5.0 MB/s\u001b[0m eta \u001b[36m0:00:00\u001b[0m\n",
            "\u001b[?25hCollecting pyopenssl<24.0.0 (from azureml-core)\n",
            "  Downloading pyOpenSSL-23.2.0-py3-none-any.whl (59 kB)\n",
            "\u001b[2K     \u001b[90m━━━━━━━━━━━━━━━━━━━━━━━━━━━━━━━━━━━━━━━━\u001b[0m \u001b[32m59.0/59.0 kB\u001b[0m \u001b[31m5.2 MB/s\u001b[0m eta \u001b[36m0:00:00\u001b[0m\n",
            "\u001b[?25hCollecting jmespath<2.0.0 (from azureml-core)\n",
            "  Downloading jmespath-1.0.1-py3-none-any.whl (20 kB)\n",
            "Requirement already satisfied: six>=1.11.0 in /usr/local/lib/python3.10/dist-packages (from azure-core<2.0.0->azureml-core) (1.16.0)\n",
            "Requirement already satisfied: typing-extensions>=4.3.0 in /usr/local/lib/python3.10/dist-packages (from azure-core<2.0.0->azureml-core) (4.5.0)\n",
            "Collecting azure-mgmt-core<2.0.0,>=1.3.2 (from azure-mgmt-authorization<4,>=0.40.0->azureml-core)\n",
            "  Downloading azure_mgmt_core-1.4.0-py3-none-any.whl (27 kB)\n",
            "Collecting isodate<1.0.0,>=0.6.1 (from azure-mgmt-keyvault<11.0.0,>=0.40.0->azureml-core)\n",
            "  Downloading isodate-0.6.1-py2.py3-none-any.whl (41 kB)\n",
            "\u001b[2K     \u001b[90m━━━━━━━━━━━━━━━━━━━━━━━━━━━━━━━━━━━━━━━━\u001b[0m \u001b[32m41.7/41.7 kB\u001b[0m \u001b[31m2.6 MB/s\u001b[0m eta \u001b[36m0:00:00\u001b[0m\n",
            "\u001b[?25hRequirement already satisfied: cffi>=1.12 in /usr/local/lib/python3.10/dist-packages (from cryptography!=1.9,!=2.0.*,!=2.1.*,!=2.2.*,<41->azureml-core) (1.15.1)\n",
            "Requirement already satisfied: websocket-client>=0.32.0 in /usr/local/lib/python3.10/dist-packages (from docker<7.0.0->azureml-core) (1.5.1)\n",
            "Requirement already satisfied: pygments in /usr/local/lib/python3.10/dist-packages (from knack~=0.10.0->azureml-core) (2.14.0)\n",
            "Requirement already satisfied: pyyaml in /usr/local/lib/python3.10/dist-packages (from knack~=0.10.0->azureml-core) (6.0)\n",
            "Requirement already satisfied: tabulate in /usr/local/lib/python3.10/dist-packages (from knack~=0.10.0->azureml-core) (0.8.10)\n",
            "Collecting portalocker<3,>=1.0 (from msal-extensions<=1.0.0,>=0.3.0->azureml-core)\n",
            "  Downloading portalocker-2.7.0-py2.py3-none-any.whl (15 kB)\n",
            "Requirement already satisfied: certifi>=2017.4.17 in /usr/local/lib/python3.10/dist-packages (from msrest<=0.7.1,>=0.5.1->azureml-core) (2022.12.7)\n",
            "Requirement already satisfied: requests-oauthlib>=0.5.0 in /usr/local/lib/python3.10/dist-packages (from msrest<=0.7.1,>=0.5.1->azureml-core) (1.3.1)\n",
            "Requirement already satisfied: pyasn1>=0.1.1 in /usr/local/lib/python3.10/dist-packages (from ndg-httpsclient<=0.5.1->azureml-core) (0.5.0)\n",
            "Collecting bcrypt>=3.2 (from paramiko<4.0.0,>=2.0.8->azureml-core)\n",
            "  Downloading bcrypt-4.0.1-cp36-abi3-manylinux_2_28_x86_64.whl (593 kB)\n",
            "\u001b[2K     \u001b[90m━━━━━━━━━━━━━━━━━━━━━━━━━━━━━━━━━━━━━━\u001b[0m \u001b[32m593.7/593.7 kB\u001b[0m \u001b[31m32.9 MB/s\u001b[0m eta \u001b[36m0:00:00\u001b[0m\n",
            "\u001b[?25hCollecting pynacl>=1.5 (from paramiko<4.0.0,>=2.0.8->azureml-core)\n",
            "  Downloading PyNaCl-1.5.0-cp36-abi3-manylinux_2_17_x86_64.manylinux2014_x86_64.manylinux_2_24_x86_64.whl (856 kB)\n",
            "\u001b[2K     \u001b[90m━━━━━━━━━━━━━━━━━━━━━━━━━━━━━━━━━━━━━━\u001b[0m \u001b[32m856.7/856.7 kB\u001b[0m \u001b[31m37.6 MB/s\u001b[0m eta \u001b[36m0:00:00\u001b[0m\n",
            "\u001b[?25hRequirement already satisfied: charset-normalizer~=2.0.0 in /usr/local/lib/python3.10/dist-packages (from requests[socks]<3.0.0,>=2.19.1->azureml-core) (2.0.12)\n",
            "Requirement already satisfied: idna<4,>=2.5 in /usr/local/lib/python3.10/dist-packages (from requests[socks]<3.0.0,>=2.19.1->azureml-core) (3.4)\n",
            "Requirement already satisfied: PySocks!=1.5.7,>=1.5.6 in /usr/local/lib/python3.10/dist-packages (from requests[socks]<3.0.0,>=2.19.1->azureml-core) (1.7.1)\n",
            "Collecting jeepney>=0.6 (from SecretStorage<4.0.0->azureml-core)\n",
            "  Downloading jeepney-0.8.0-py3-none-any.whl (48 kB)\n",
            "\u001b[2K     \u001b[90m━━━━━━━━━━━━━━━━━━━━━━━━━━━━━━━━━━━━━━━━\u001b[0m \u001b[32m48.4/48.4 kB\u001b[0m \u001b[31m2.8 MB/s\u001b[0m eta \u001b[36m0:00:00\u001b[0m\n",
            "\u001b[?25hCollecting backports.weakref (from backports.tempfile->azureml-core)\n",
            "  Downloading backports.weakref-1.0.post1-py2.py3-none-any.whl (5.2 kB)\n",
            "Requirement already satisfied: pycparser in /usr/local/lib/python3.10/dist-packages (from cffi>=1.12->cryptography!=1.9,!=2.0.*,!=2.1.*,!=2.2.*,<41->azureml-core) (2.21)\n",
            "Requirement already satisfied: oauthlib>=3.0.0 in /usr/local/lib/python3.10/dist-packages (from requests-oauthlib>=0.5.0->msrest<=0.7.1,>=0.5.1->azureml-core) (3.2.2)\n",
            "Installing collected packages: backports.weakref, azure-common, PyJWT, portalocker, pkginfo, pathspec, packaging, jmespath, jeepney, isodate, humanfriendly, bcrypt, backports.tempfile, argcomplete, pynacl, knack, docker, azure-core, SecretStorage, pyopenssl, paramiko, msrest, azure-mgmt-core, adal, ndg-httpsclient, msrestazure, msal, azure-mgmt-storage, azure-mgmt-resource, azure-mgmt-keyvault, azure-mgmt-containerregistry, azure-mgmt-authorization, msal-extensions, azure-graphrbac, azureml-core\n",
            "  Attempting uninstall: packaging\n",
            "    Found existing installation: packaging 23.1\n",
            "    Uninstalling packaging-23.1:\n",
            "      Successfully uninstalled packaging-23.1\n",
            "Successfully installed PyJWT-2.7.0 SecretStorage-3.3.3 adal-1.2.7 argcomplete-2.1.2 azure-common-1.1.28 azure-core-1.27.0 azure-graphrbac-0.61.1 azure-mgmt-authorization-3.0.0 azure-mgmt-containerregistry-10.1.0 azure-mgmt-core-1.4.0 azure-mgmt-keyvault-10.2.2 azure-mgmt-resource-22.0.0 azure-mgmt-storage-21.0.0 azureml-core-1.51.0 backports.tempfile-1.0 backports.weakref-1.0.post1 bcrypt-4.0.1 docker-6.1.3 humanfriendly-10.0 isodate-0.6.1 jeepney-0.8.0 jmespath-1.0.1 knack-0.10.1 msal-1.22.0 msal-extensions-1.0.0 msrest-0.7.1 msrestazure-0.6.4 ndg-httpsclient-0.5.1 packaging-23.0 paramiko-3.2.0 pathspec-0.11.1 pkginfo-1.9.6 portalocker-2.7.0 pynacl-1.5.0 pyopenssl-23.2.0\n",
            "Looking in indexes: https://pypi.org/simple, https://us-python.pkg.dev/colab-wheels/public/simple/\n",
            "Collecting azureml-train\n",
            "  Downloading azureml_train-1.51.0-py3-none-any.whl (2.2 kB)\n",
            "Collecting azureml-train-core~=1.51.0 (from azureml-train)\n",
            "  Downloading azureml_train_core-1.51.0-py3-none-any.whl (8.6 MB)\n",
            "\u001b[2K     \u001b[90m━━━━━━━━━━━━━━━━━━━━━━━━━━━━━━━━━━━━━━━━\u001b[0m \u001b[32m8.6/8.6 MB\u001b[0m \u001b[31m45.9 MB/s\u001b[0m eta \u001b[36m0:00:00\u001b[0m\n",
            "\u001b[?25hCollecting azureml-train-restclients-hyperdrive~=1.51.0 (from azureml-train-core~=1.51.0->azureml-train)\n",
            "  Downloading azureml_train_restclients_hyperdrive-1.51.0-py3-none-any.whl (18 kB)\n",
            "Requirement already satisfied: azureml-core~=1.51.0 in /usr/local/lib/python3.10/dist-packages (from azureml-train-core~=1.51.0->azureml-train) (1.51.0)\n",
            "Collecting azureml-telemetry~=1.51.0 (from azureml-train-core~=1.51.0->azureml-train)\n",
            "  Downloading azureml_telemetry-1.51.0-py3-none-any.whl (30 kB)\n",
            "Requirement already satisfied: pytz in /usr/local/lib/python3.10/dist-packages (from azureml-core~=1.51.0->azureml-train-core~=1.51.0->azureml-train) (2022.7.1)\n",
            "Requirement already satisfied: backports.tempfile in /usr/local/lib/python3.10/dist-packages (from azureml-core~=1.51.0->azureml-train-core~=1.51.0->azureml-train) (1.0)\n",
            "Requirement already satisfied: pathspec<1.0.0 in /usr/local/lib/python3.10/dist-packages (from azureml-core~=1.51.0->azureml-train-core~=1.51.0->azureml-train) (0.11.1)\n",
            "Requirement already satisfied: requests[socks]<3.0.0,>=2.19.1 in /usr/local/lib/python3.10/dist-packages (from azureml-core~=1.51.0->azureml-train-core~=1.51.0->azureml-train) (2.27.1)\n",
            "Requirement already satisfied: msal<2.0.0,>=1.15.0 in /usr/local/lib/python3.10/dist-packages (from azureml-core~=1.51.0->azureml-train-core~=1.51.0->azureml-train) (1.22.0)\n",
            "Requirement already satisfied: msal-extensions<=1.0.0,>=0.3.0 in /usr/local/lib/python3.10/dist-packages (from azureml-core~=1.51.0->azureml-train-core~=1.51.0->azureml-train) (1.0.0)\n",
            "Requirement already satisfied: knack~=0.10.0 in /usr/local/lib/python3.10/dist-packages (from azureml-core~=1.51.0->azureml-train-core~=1.51.0->azureml-train) (0.10.1)\n",
            "Requirement already satisfied: azure-core<2.0.0 in /usr/local/lib/python3.10/dist-packages (from azureml-core~=1.51.0->azureml-train-core~=1.51.0->azureml-train) (1.27.0)\n",
            "Requirement already satisfied: pkginfo in /usr/local/lib/python3.10/dist-packages (from azureml-core~=1.51.0->azureml-train-core~=1.51.0->azureml-train) (1.9.6)\n",
            "Requirement already satisfied: argcomplete<3 in /usr/local/lib/python3.10/dist-packages (from azureml-core~=1.51.0->azureml-train-core~=1.51.0->azureml-train) (2.1.2)\n",
            "Requirement already satisfied: humanfriendly<11.0,>=4.7 in /usr/local/lib/python3.10/dist-packages (from azureml-core~=1.51.0->azureml-train-core~=1.51.0->azureml-train) (10.0)\n",
            "Requirement already satisfied: paramiko<4.0.0,>=2.0.8 in /usr/local/lib/python3.10/dist-packages (from azureml-core~=1.51.0->azureml-train-core~=1.51.0->azureml-train) (3.2.0)\n",
            "Requirement already satisfied: azure-mgmt-resource<=22.0.0,>=15.0.0 in /usr/local/lib/python3.10/dist-packages (from azureml-core~=1.51.0->azureml-train-core~=1.51.0->azureml-train) (22.0.0)\n",
            "Requirement already satisfied: azure-mgmt-containerregistry<11,>=8.2.0 in /usr/local/lib/python3.10/dist-packages (from azureml-core~=1.51.0->azureml-train-core~=1.51.0->azureml-train) (10.1.0)\n",
            "Requirement already satisfied: azure-mgmt-storage<=21.0.0,>=16.0.0 in /usr/local/lib/python3.10/dist-packages (from azureml-core~=1.51.0->azureml-train-core~=1.51.0->azureml-train) (21.0.0)\n",
            "Requirement already satisfied: azure-mgmt-keyvault<11.0.0,>=0.40.0 in /usr/local/lib/python3.10/dist-packages (from azureml-core~=1.51.0->azureml-train-core~=1.51.0->azureml-train) (10.2.2)\n",
            "Requirement already satisfied: azure-mgmt-authorization<4,>=0.40.0 in /usr/local/lib/python3.10/dist-packages (from azureml-core~=1.51.0->azureml-train-core~=1.51.0->azureml-train) (3.0.0)\n",
            "Requirement already satisfied: azure-graphrbac<1.0.0,>=0.40.0 in /usr/local/lib/python3.10/dist-packages (from azureml-core~=1.51.0->azureml-train-core~=1.51.0->azureml-train) (0.61.1)\n",
            "Requirement already satisfied: azure-common<2.0.0,>=1.1.12 in /usr/local/lib/python3.10/dist-packages (from azureml-core~=1.51.0->azureml-train-core~=1.51.0->azureml-train) (1.1.28)\n",
            "Requirement already satisfied: msrest<=0.7.1,>=0.5.1 in /usr/local/lib/python3.10/dist-packages (from azureml-core~=1.51.0->azureml-train-core~=1.51.0->azureml-train) (0.7.1)\n",
            "Requirement already satisfied: msrestazure<=0.6.4,>=0.4.33 in /usr/local/lib/python3.10/dist-packages (from azureml-core~=1.51.0->azureml-train-core~=1.51.0->azureml-train) (0.6.4)\n",
            "Requirement already satisfied: urllib3<2.0.0,>=1.23 in /usr/local/lib/python3.10/dist-packages (from azureml-core~=1.51.0->azureml-train-core~=1.51.0->azureml-train) (1.26.15)\n",
            "Requirement already satisfied: packaging<=23.0,>=20.0 in /usr/local/lib/python3.10/dist-packages (from azureml-core~=1.51.0->azureml-train-core~=1.51.0->azureml-train) (23.0)\n",
            "Requirement already satisfied: cryptography!=1.9,!=2.0.*,!=2.1.*,!=2.2.*,<41 in /usr/local/lib/python3.10/dist-packages (from azureml-core~=1.51.0->azureml-train-core~=1.51.0->azureml-train) (40.0.2)\n",
            "Requirement already satisfied: python-dateutil<3.0.0,>=2.7.3 in /usr/local/lib/python3.10/dist-packages (from azureml-core~=1.51.0->azureml-train-core~=1.51.0->azureml-train) (2.8.2)\n",
            "Requirement already satisfied: ndg-httpsclient<=0.5.1 in /usr/local/lib/python3.10/dist-packages (from azureml-core~=1.51.0->azureml-train-core~=1.51.0->azureml-train) (0.5.1)\n",
            "Requirement already satisfied: SecretStorage<4.0.0 in /usr/local/lib/python3.10/dist-packages (from azureml-core~=1.51.0->azureml-train-core~=1.51.0->azureml-train) (3.3.3)\n",
            "Requirement already satisfied: jsonpickle<4.0.0 in /usr/local/lib/python3.10/dist-packages (from azureml-core~=1.51.0->azureml-train-core~=1.51.0->azureml-train) (3.0.1)\n",
            "Requirement already satisfied: contextlib2<22.0.0 in /usr/local/lib/python3.10/dist-packages (from azureml-core~=1.51.0->azureml-train-core~=1.51.0->azureml-train) (0.6.0.post1)\n",
            "Requirement already satisfied: docker<7.0.0 in /usr/local/lib/python3.10/dist-packages (from azureml-core~=1.51.0->azureml-train-core~=1.51.0->azureml-train) (6.1.3)\n",
            "Requirement already satisfied: PyJWT<3.0.0 in /usr/local/lib/python3.10/dist-packages (from azureml-core~=1.51.0->azureml-train-core~=1.51.0->azureml-train) (2.7.0)\n",
            "Requirement already satisfied: adal<=1.2.7,>=1.2.0 in /usr/local/lib/python3.10/dist-packages (from azureml-core~=1.51.0->azureml-train-core~=1.51.0->azureml-train) (1.2.7)\n",
            "Requirement already satisfied: pyopenssl<24.0.0 in /usr/local/lib/python3.10/dist-packages (from azureml-core~=1.51.0->azureml-train-core~=1.51.0->azureml-train) (23.2.0)\n",
            "Requirement already satisfied: jmespath<2.0.0 in /usr/local/lib/python3.10/dist-packages (from azureml-core~=1.51.0->azureml-train-core~=1.51.0->azureml-train) (1.0.1)\n",
            "Collecting applicationinsights (from azureml-telemetry~=1.51.0->azureml-train-core~=1.51.0->azureml-train)\n",
            "  Downloading applicationinsights-0.11.10-py2.py3-none-any.whl (55 kB)\n",
            "\u001b[2K     \u001b[90m━━━━━━━━━━━━━━━━━━━━━━━━━━━━━━━━━━━━━━━━\u001b[0m \u001b[32m55.1/55.1 kB\u001b[0m \u001b[31m5.3 MB/s\u001b[0m eta \u001b[36m0:00:00\u001b[0m\n",
            "\u001b[?25hRequirement already satisfied: six>=1.11.0 in /usr/local/lib/python3.10/dist-packages (from azure-core<2.0.0->azureml-core~=1.51.0->azureml-train-core~=1.51.0->azureml-train) (1.16.0)\n",
            "Requirement already satisfied: typing-extensions>=4.3.0 in /usr/local/lib/python3.10/dist-packages (from azure-core<2.0.0->azureml-core~=1.51.0->azureml-train-core~=1.51.0->azureml-train) (4.5.0)\n",
            "Requirement already satisfied: azure-mgmt-core<2.0.0,>=1.3.2 in /usr/local/lib/python3.10/dist-packages (from azure-mgmt-authorization<4,>=0.40.0->azureml-core~=1.51.0->azureml-train-core~=1.51.0->azureml-train) (1.4.0)\n",
            "Requirement already satisfied: isodate<1.0.0,>=0.6.1 in /usr/local/lib/python3.10/dist-packages (from azure-mgmt-keyvault<11.0.0,>=0.40.0->azureml-core~=1.51.0->azureml-train-core~=1.51.0->azureml-train) (0.6.1)\n",
            "Requirement already satisfied: cffi>=1.12 in /usr/local/lib/python3.10/dist-packages (from cryptography!=1.9,!=2.0.*,!=2.1.*,!=2.2.*,<41->azureml-core~=1.51.0->azureml-train-core~=1.51.0->azureml-train) (1.15.1)\n",
            "Requirement already satisfied: websocket-client>=0.32.0 in /usr/local/lib/python3.10/dist-packages (from docker<7.0.0->azureml-core~=1.51.0->azureml-train-core~=1.51.0->azureml-train) (1.5.1)\n",
            "Requirement already satisfied: pygments in /usr/local/lib/python3.10/dist-packages (from knack~=0.10.0->azureml-core~=1.51.0->azureml-train-core~=1.51.0->azureml-train) (2.14.0)\n",
            "Requirement already satisfied: pyyaml in /usr/local/lib/python3.10/dist-packages (from knack~=0.10.0->azureml-core~=1.51.0->azureml-train-core~=1.51.0->azureml-train) (6.0)\n",
            "Requirement already satisfied: tabulate in /usr/local/lib/python3.10/dist-packages (from knack~=0.10.0->azureml-core~=1.51.0->azureml-train-core~=1.51.0->azureml-train) (0.8.10)\n",
            "Requirement already satisfied: portalocker<3,>=1.0 in /usr/local/lib/python3.10/dist-packages (from msal-extensions<=1.0.0,>=0.3.0->azureml-core~=1.51.0->azureml-train-core~=1.51.0->azureml-train) (2.7.0)\n",
            "Requirement already satisfied: certifi>=2017.4.17 in /usr/local/lib/python3.10/dist-packages (from msrest<=0.7.1,>=0.5.1->azureml-core~=1.51.0->azureml-train-core~=1.51.0->azureml-train) (2022.12.7)\n",
            "Requirement already satisfied: requests-oauthlib>=0.5.0 in /usr/local/lib/python3.10/dist-packages (from msrest<=0.7.1,>=0.5.1->azureml-core~=1.51.0->azureml-train-core~=1.51.0->azureml-train) (1.3.1)\n",
            "Requirement already satisfied: pyasn1>=0.1.1 in /usr/local/lib/python3.10/dist-packages (from ndg-httpsclient<=0.5.1->azureml-core~=1.51.0->azureml-train-core~=1.51.0->azureml-train) (0.5.0)\n",
            "Requirement already satisfied: bcrypt>=3.2 in /usr/local/lib/python3.10/dist-packages (from paramiko<4.0.0,>=2.0.8->azureml-core~=1.51.0->azureml-train-core~=1.51.0->azureml-train) (4.0.1)\n",
            "Requirement already satisfied: pynacl>=1.5 in /usr/local/lib/python3.10/dist-packages (from paramiko<4.0.0,>=2.0.8->azureml-core~=1.51.0->azureml-train-core~=1.51.0->azureml-train) (1.5.0)\n",
            "Requirement already satisfied: charset-normalizer~=2.0.0 in /usr/local/lib/python3.10/dist-packages (from requests[socks]<3.0.0,>=2.19.1->azureml-core~=1.51.0->azureml-train-core~=1.51.0->azureml-train) (2.0.12)\n",
            "Requirement already satisfied: idna<4,>=2.5 in /usr/local/lib/python3.10/dist-packages (from requests[socks]<3.0.0,>=2.19.1->azureml-core~=1.51.0->azureml-train-core~=1.51.0->azureml-train) (3.4)\n",
            "Requirement already satisfied: PySocks!=1.5.7,>=1.5.6 in /usr/local/lib/python3.10/dist-packages (from requests[socks]<3.0.0,>=2.19.1->azureml-core~=1.51.0->azureml-train-core~=1.51.0->azureml-train) (1.7.1)\n",
            "Requirement already satisfied: jeepney>=0.6 in /usr/local/lib/python3.10/dist-packages (from SecretStorage<4.0.0->azureml-core~=1.51.0->azureml-train-core~=1.51.0->azureml-train) (0.8.0)\n",
            "Requirement already satisfied: backports.weakref in /usr/local/lib/python3.10/dist-packages (from backports.tempfile->azureml-core~=1.51.0->azureml-train-core~=1.51.0->azureml-train) (1.0.post1)\n",
            "Requirement already satisfied: pycparser in /usr/local/lib/python3.10/dist-packages (from cffi>=1.12->cryptography!=1.9,!=2.0.*,!=2.1.*,!=2.2.*,<41->azureml-core~=1.51.0->azureml-train-core~=1.51.0->azureml-train) (2.21)\n",
            "Requirement already satisfied: oauthlib>=3.0.0 in /usr/local/lib/python3.10/dist-packages (from requests-oauthlib>=0.5.0->msrest<=0.7.1,>=0.5.1->azureml-core~=1.51.0->azureml-train-core~=1.51.0->azureml-train) (3.2.2)\n",
            "Installing collected packages: applicationinsights, azureml-train-restclients-hyperdrive, azureml-telemetry, azureml-train-core, azureml-train\n",
            "Successfully installed applicationinsights-0.11.10 azureml-telemetry-1.51.0 azureml-train-1.51.0 azureml-train-core-1.51.0 azureml-train-restclients-hyperdrive-1.51.0\n",
            "Looking in indexes: https://pypi.org/simple, https://us-python.pkg.dev/colab-wheels/public/simple/\n",
            "Collecting azureml-Dataset-runtime\n",
            "  Downloading azureml_dataset_runtime-1.51.0-py3-none-any.whl (2.3 kB)\n",
            "Collecting azureml-dataprep<4.11.0a,>=4.10.0a (from azureml-Dataset-runtime)\n",
            "  Downloading azureml_dataprep-4.10.8-py3-none-any.whl (38.2 MB)\n",
            "\u001b[2K     \u001b[90m━━━━━━━━━━━━━━━━━━━━━━━━━━━━━━━━━━━━━━━━\u001b[0m \u001b[32m38.2/38.2 MB\u001b[0m \u001b[31m32.7 MB/s\u001b[0m eta \u001b[36m0:00:00\u001b[0m\n",
            "\u001b[?25hRequirement already satisfied: pyarrow<=9.0.0,>=0.17.0 in /usr/local/lib/python3.10/dist-packages (from azureml-Dataset-runtime) (9.0.0)\n",
            "Requirement already satisfied: numpy!=1.19.3,<1.24 in /usr/local/lib/python3.10/dist-packages (from azureml-Dataset-runtime) (1.22.4)\n",
            "Collecting dotnetcore2<4.0.0,>=3.0.0 (from azureml-dataprep<4.11.0a,>=4.10.0a->azureml-Dataset-runtime)\n",
            "  Downloading dotnetcore2-3.1.23-py3-none-manylinux1_x86_64.whl (31.1 MB)\n",
            "\u001b[2K     \u001b[90m━━━━━━━━━━━━━━━━━━━━━━━━━━━━━━━━━━━━━━━━\u001b[0m \u001b[32m31.1/31.1 MB\u001b[0m \u001b[31m28.2 MB/s\u001b[0m eta \u001b[36m0:00:00\u001b[0m\n",
            "\u001b[?25hCollecting azureml-dataprep-native<39.0.0,>=38.0.0 (from azureml-dataprep<4.11.0a,>=4.10.0a->azureml-Dataset-runtime)\n",
            "  Downloading azureml_dataprep_native-38.0.0-cp310-cp310-manylinux1_x86_64.whl (191 kB)\n",
            "\u001b[2K     \u001b[90m━━━━━━━━━━━━━━━━━━━━━━━━━━━━━━━━━━━━━━\u001b[0m \u001b[32m191.7/191.7 kB\u001b[0m \u001b[31m17.2 MB/s\u001b[0m eta \u001b[36m0:00:00\u001b[0m\n",
            "\u001b[?25hCollecting azureml-dataprep-rslex~=2.17.12dev0 (from azureml-dataprep<4.11.0a,>=4.10.0a->azureml-Dataset-runtime)\n",
            "  Downloading azureml_dataprep_rslex-2.17.12-cp310-cp310-manylinux_2_17_x86_64.manylinux2014_x86_64.whl (20.3 MB)\n",
            "\u001b[2K     \u001b[90m━━━━━━━━━━━━━━━━━━━━━━━━━━━━━━━━━━━━━━━━\u001b[0m \u001b[32m20.3/20.3 MB\u001b[0m \u001b[31m45.1 MB/s\u001b[0m eta \u001b[36m0:00:00\u001b[0m\n",
            "\u001b[?25hRequirement already satisfied: cloudpickle<3.0.0,>=1.1.0 in /usr/local/lib/python3.10/dist-packages (from azureml-dataprep<4.11.0a,>=4.10.0a->azureml-Dataset-runtime) (2.2.1)\n",
            "Collecting azure-identity>=1.7.0 (from azureml-dataprep<4.11.0a,>=4.10.0a->azureml-Dataset-runtime)\n",
            "  Downloading azure_identity-1.13.0-py3-none-any.whl (151 kB)\n",
            "\u001b[2K     \u001b[90m━━━━━━━━━━━━━━━━━━━━━━━━━━━━━━━━━━━━━━\u001b[0m \u001b[32m151.6/151.6 kB\u001b[0m \u001b[31m13.3 MB/s\u001b[0m eta \u001b[36m0:00:00\u001b[0m\n",
            "\u001b[?25hRequirement already satisfied: jsonschema in /usr/local/lib/python3.10/dist-packages (from azureml-dataprep<4.11.0a,>=4.10.0a->azureml-Dataset-runtime) (4.3.3)\n",
            "Requirement already satisfied: pyyaml<7.0.0,>=5.1.0 in /usr/local/lib/python3.10/dist-packages (from azureml-dataprep<4.11.0a,>=4.10.0a->azureml-Dataset-runtime) (6.0)\n",
            "Requirement already satisfied: azure-core<2.0.0,>=1.11.0 in /usr/local/lib/python3.10/dist-packages (from azure-identity>=1.7.0->azureml-dataprep<4.11.0a,>=4.10.0a->azureml-Dataset-runtime) (1.27.0)\n",
            "Requirement already satisfied: cryptography>=2.5 in /usr/local/lib/python3.10/dist-packages (from azure-identity>=1.7.0->azureml-dataprep<4.11.0a,>=4.10.0a->azureml-Dataset-runtime) (40.0.2)\n",
            "Requirement already satisfied: msal<2.0.0,>=1.20.0 in /usr/local/lib/python3.10/dist-packages (from azure-identity>=1.7.0->azureml-dataprep<4.11.0a,>=4.10.0a->azureml-Dataset-runtime) (1.22.0)\n",
            "Requirement already satisfied: msal-extensions<2.0.0,>=0.3.0 in /usr/local/lib/python3.10/dist-packages (from azure-identity>=1.7.0->azureml-dataprep<4.11.0a,>=4.10.0a->azureml-Dataset-runtime) (1.0.0)\n",
            "Requirement already satisfied: six>=1.12.0 in /usr/local/lib/python3.10/dist-packages (from azure-identity>=1.7.0->azureml-dataprep<4.11.0a,>=4.10.0a->azureml-Dataset-runtime) (1.16.0)\n",
            "Collecting distro>=1.2.0 (from dotnetcore2<4.0.0,>=3.0.0->azureml-dataprep<4.11.0a,>=4.10.0a->azureml-Dataset-runtime)\n",
            "  Downloading distro-1.8.0-py3-none-any.whl (20 kB)\n",
            "Requirement already satisfied: attrs>=17.4.0 in /usr/local/lib/python3.10/dist-packages (from jsonschema->azureml-dataprep<4.11.0a,>=4.10.0a->azureml-Dataset-runtime) (23.1.0)\n",
            "Requirement already satisfied: pyrsistent!=0.17.0,!=0.17.1,!=0.17.2,>=0.14.0 in /usr/local/lib/python3.10/dist-packages (from jsonschema->azureml-dataprep<4.11.0a,>=4.10.0a->azureml-Dataset-runtime) (0.19.3)\n",
            "Requirement already satisfied: requests>=2.18.4 in /usr/local/lib/python3.10/dist-packages (from azure-core<2.0.0,>=1.11.0->azure-identity>=1.7.0->azureml-dataprep<4.11.0a,>=4.10.0a->azureml-Dataset-runtime) (2.27.1)\n",
            "Requirement already satisfied: typing-extensions>=4.3.0 in /usr/local/lib/python3.10/dist-packages (from azure-core<2.0.0,>=1.11.0->azure-identity>=1.7.0->azureml-dataprep<4.11.0a,>=4.10.0a->azureml-Dataset-runtime) (4.5.0)\n",
            "Requirement already satisfied: cffi>=1.12 in /usr/local/lib/python3.10/dist-packages (from cryptography>=2.5->azure-identity>=1.7.0->azureml-dataprep<4.11.0a,>=4.10.0a->azureml-Dataset-runtime) (1.15.1)\n",
            "Requirement already satisfied: PyJWT[crypto]<3,>=1.0.0 in /usr/local/lib/python3.10/dist-packages (from msal<2.0.0,>=1.20.0->azure-identity>=1.7.0->azureml-dataprep<4.11.0a,>=4.10.0a->azureml-Dataset-runtime) (2.7.0)\n",
            "Requirement already satisfied: portalocker<3,>=1.0 in /usr/local/lib/python3.10/dist-packages (from msal-extensions<2.0.0,>=0.3.0->azure-identity>=1.7.0->azureml-dataprep<4.11.0a,>=4.10.0a->azureml-Dataset-runtime) (2.7.0)\n",
            "Requirement already satisfied: pycparser in /usr/local/lib/python3.10/dist-packages (from cffi>=1.12->cryptography>=2.5->azure-identity>=1.7.0->azureml-dataprep<4.11.0a,>=4.10.0a->azureml-Dataset-runtime) (2.21)\n",
            "Requirement already satisfied: urllib3<1.27,>=1.21.1 in /usr/local/lib/python3.10/dist-packages (from requests>=2.18.4->azure-core<2.0.0,>=1.11.0->azure-identity>=1.7.0->azureml-dataprep<4.11.0a,>=4.10.0a->azureml-Dataset-runtime) (1.26.15)\n",
            "Requirement already satisfied: certifi>=2017.4.17 in /usr/local/lib/python3.10/dist-packages (from requests>=2.18.4->azure-core<2.0.0,>=1.11.0->azure-identity>=1.7.0->azureml-dataprep<4.11.0a,>=4.10.0a->azureml-Dataset-runtime) (2022.12.7)\n",
            "Requirement already satisfied: charset-normalizer~=2.0.0 in /usr/local/lib/python3.10/dist-packages (from requests>=2.18.4->azure-core<2.0.0,>=1.11.0->azure-identity>=1.7.0->azureml-dataprep<4.11.0a,>=4.10.0a->azureml-Dataset-runtime) (2.0.12)\n",
            "Requirement already satisfied: idna<4,>=2.5 in /usr/local/lib/python3.10/dist-packages (from requests>=2.18.4->azure-core<2.0.0,>=1.11.0->azure-identity>=1.7.0->azureml-dataprep<4.11.0a,>=4.10.0a->azureml-Dataset-runtime) (3.4)\n",
            "Installing collected packages: azureml-dataprep-rslex, azureml-dataprep-native, distro, dotnetcore2, azure-identity, azureml-dataprep, azureml-Dataset-runtime\n",
            "Successfully installed azure-identity-1.13.0 azureml-Dataset-runtime-1.51.0 azureml-dataprep-4.10.8 azureml-dataprep-native-38.0.0 azureml-dataprep-rslex-2.17.12 distro-1.8.0 dotnetcore2-3.1.23\n"
          ]
        }
      ],
      "source": [
        "!pip install azureml\n",
        "!pip install azureml-core\n",
        "!pip install azureml-train\n",
        "!pip install azureml-Dataset-runtime"
      ]
    },
    {
      "cell_type": "code",
      "execution_count": null,
      "metadata": {
        "id": "9f3I2c1yN5bS"
      },
      "outputs": [],
      "source": [
        "from azureml.core import Workspace, Dataset, Experiment\n",
        "\n",
        "#Importing Required Modules"
      ]
    },
    {
      "cell_type": "code",
      "execution_count": null,
      "metadata": {
        "colab": {
          "base_uri": "https://localhost:8080/"
        },
        "id": "tqOCfN5ZN8aw",
        "outputId": "dbb3261b-9578-40db-9ad1-5ed0ba253fb9"
      },
      "outputs": [
        {
          "name": "stdout",
          "output_type": "stream",
          "text": [
            "Accessing the workspace....\n",
            "Performing interactive authentication. Please follow the instructions on the terminal.\n"
          ]
        },
        {
          "name": "stderr",
          "output_type": "stream",
          "text": [
            "WARNING:azureml._vendor.azure_cli_core.auth.identity:To sign in, use a web browser to open the page https://microsoft.com/devicelogin and enter the code F5A53CW3M to authenticate.\n"
          ]
        },
        {
          "name": "stdout",
          "output_type": "stream",
          "text": [
            "Interactive authentication successfully completed.\n"
          ]
        }
      ],
      "source": [
        "print('Accessing the workspace....')\n",
        "ws                = Workspace.from_config(\"/content/config (3).json\")\n",
        "\n",
        "#Accessing the workspace and Authentication"
      ]
    },
    {
      "cell_type": "code",
      "execution_count": null,
      "metadata": {
        "colab": {
          "base_uri": "https://localhost:8080/"
        },
        "id": "OSbvQEvLOxgf",
        "outputId": "d8619a90-5158-4b2e-e648-06dd4a0665eb"
      },
      "outputs": [
        {
          "name": "stdout",
          "output_type": "stream",
          "text": [
            "Accessing/Creating the experiment...\n"
          ]
        }
      ],
      "source": [
        "print('Accessing/Creating the experiment...')\n",
        "experiment = Experiment(workspace=ws, name='classify')\n",
        "\n",
        "#creating the experiment in azure ml"
      ]
    },
    {
      "cell_type": "code",
      "execution_count": null,
      "metadata": {
        "colab": {
          "base_uri": "https://localhost:8080/"
        },
        "id": "pknqUA5IO3XX",
        "outputId": "bf32b9c4-b191-4814-e4a0-e0619e0dd1e6"
      },
      "outputs": [
        {
          "name": "stdout",
          "output_type": "stream",
          "text": [
            "Start Experiment using Start Logging method...\n"
          ]
        }
      ],
      "source": [
        "print('Start Experiment using Start Logging method...')\n",
        "new_run = experiment.start_logging()\n",
        "\n",
        "#New run in Azureml"
      ]
    },
    {
      "cell_type": "code",
      "execution_count": null,
      "metadata": {
        "id": "MhvVHxf1hS56"
      },
      "outputs": [],
      "source": [
        "import numpy as np\n",
        "import pandas as pd\n",
        "from sklearn.datasets import load_diabetes\n",
        "from sklearn.linear_model import Ridge\n",
        "\n",
        "#Importing required modules for model Training"
      ]
    },
    {
      "cell_type": "code",
      "execution_count": null,
      "metadata": {
        "id": "n-RRWGtCXXf0"
      },
      "outputs": [],
      "source": [
        "x,y =load_diabetes(return_X_y=True)\n",
        "model=Ridge().fit(x,y)\n",
        "\n",
        "#Loading Toy dataset"
      ]
    },
    {
      "cell_type": "code",
      "execution_count": null,
      "metadata": {
        "id": "xaWTsADK-3bT"
      },
      "outputs": [],
      "source": [
        "y=df[['diabetes']]\n"
      ]
    },
    {
      "cell_type": "code",
      "execution_count": null,
      "metadata": {
        "id": "1vtBKEEC_J8p"
      },
      "outputs": [],
      "source": [
        "X=df.drop('diabetes',axis=1)"
      ]
    },
    {
      "cell_type": "code",
      "execution_count": null,
      "metadata": {
        "id": "VdzPO11O-vLu"
      },
      "outputs": [],
      "source": [
        "X=pd.get_dummies(X)\n",
        "\n",
        "#one hot encoding the categorical columns"
      ]
    },
    {
      "cell_type": "code",
      "execution_count": null,
      "metadata": {
        "id": "B4hRYMAFALLQ"
      },
      "outputs": [],
      "source": [
        "train_enc_cols = X.columns\n"
      ]
    },
    {
      "cell_type": "code",
      "execution_count": null,
      "metadata": {
        "colab": {
          "base_uri": "https://localhost:8080/"
        },
        "id": "F-t9kPeek97u",
        "outputId": "ea2c981e-c70a-4ced-8f8c-0d49a156955b"
      },
      "outputs": [
        {
          "name": "stderr",
          "output_type": "stream",
          "text": [
            "<ipython-input-14-1ee9387aece6>:13: DataConversionWarning: A column-vector y was passed when a 1d array was expected. Please change the shape of y to (n_samples,), for example using ravel().\n",
            "  clf.fit(X_train, y_train)\n"
          ]
        },
        {
          "name": "stdout",
          "output_type": "stream",
          "text": [
            "Accuracy: 0.96985\n"
          ]
        }
      ],
      "source": [
        "from sklearn.ensemble import RandomForestClassifier\n",
        "from sklearn.model_selection import train_test_split\n",
        "from sklearn.metrics import accuracy_score\n",
        "\n",
        "# Step 2: Prepare your data\n",
        "# X represents the features, and y represents the target variable\n",
        "X_train, X_test, y_train, y_test = train_test_split(X, y, test_size=0.2, random_state=42)\n",
        "\n",
        "# Step 3: Create an instance of the Random Forest Classifier\n",
        "clf = RandomForestClassifier()\n",
        "\n",
        "# Step 4: Train the model\n",
        "clf.fit(X_train, y_train)\n",
        "\n",
        "# Step 5: Predict using the trained model\n",
        "y_pred = clf.predict(X_test)\n",
        "\n",
        "# Step 6: Evaluate the model's performance\n",
        "accuracy = accuracy_score(y_test, y_pred)\n",
        "print(\"Accuracy:\", accuracy)"
      ]
    },
    {
      "cell_type": "code",
      "execution_count": null,
      "metadata": {
        "id": "cQjnT8VjPBAR"
      },
      "outputs": [],
      "source": [
        "new_run.log(\"accuracy\",accuracy)\n",
        "\n",
        "#Logging the run in experiment"
      ]
    },
    {
      "cell_type": "code",
      "execution_count": null,
      "metadata": {
        "id": "dS9ztzk1U0Vx"
      },
      "outputs": [],
      "source": [
        "new_run.complete()"
      ]
    },
    {
      "cell_type": "code",
      "execution_count": null,
      "metadata": {
        "colab": {
          "base_uri": "https://localhost:8080/"
        },
        "id": "juqz6yRJPA8b",
        "outputId": "4a362757-3dd5-4986-f531-e07f012000ab"
      },
      "outputs": [
        {
          "data": {
            "text/plain": [
              "['/content/model_clf.pkl']"
            ]
          },
          "execution_count": 17,
          "metadata": {},
          "output_type": "execute_result"
        }
      ],
      "source": [
        "import joblib\n",
        "model_file = '/content/model_clf.pkl'\n",
        "joblib.dump(value=[train_enc_cols,clf],filename=model_file)\n",
        "\n",
        "#making a pickle file for the model"
      ]
    },
    {
      "cell_type": "code",
      "execution_count": null,
      "metadata": {
        "id": "SYHosFCxPA6B"
      },
      "outputs": [],
      "source": [
        "from azureml.core import Model"
      ]
    },
    {
      "cell_type": "code",
      "execution_count": null,
      "metadata": {
        "colab": {
          "base_uri": "https://localhost:8080/"
        },
        "id": "S7VfX2FkPA3t",
        "outputId": "539ffd14-e3fd-43ab-d7e5-6ad5a3524001"
      },
      "outputs": [
        {
          "name": "stdout",
          "output_type": "stream",
          "text": [
            "Registering model Diabetes_model\n"
          ]
        }
      ],
      "source": [
        "model = Model.register(workspace=ws,model_name='Diabetes_model',\n",
        "                       model_path='/content/model_clf.pkl',\n",
        "                       model_framework=Model.Framework.SCIKITLEARN,\n",
        "                       model_framework_version='1',\n",
        "                       description='regression model for diabetes prediction')\n",
        "\n",
        "#Registering the model in Azure ml studio"
      ]
    },
    {
      "cell_type": "code",
      "execution_count": null,
      "metadata": {
        "id": "_9F6Gb93PAxY"
      },
      "outputs": [],
      "source": [
        "from azureml.core import Environment\n",
        "from azureml.core.conda_dependencies import CondaDependencies"
      ]
    },
    {
      "cell_type": "code",
      "execution_count": null,
      "metadata": {
        "id": "qfGVHKaAPAuz"
      },
      "outputs": [],
      "source": [
        "Diabetes_env = Environment.get(workspace=ws, name='Diabetes_env')\n",
        "\n",
        "#Defining  a environment "
      ]
    },
    {
      "cell_type": "code",
      "execution_count": null,
      "metadata": {
        "colab": {
          "base_uri": "https://localhost:8080/"
        },
        "id": "dZ2HqdE_yx5A",
        "outputId": "70b48b8b-615c-496a-c483-527750185d2b"
      },
      "outputs": [
        {
          "data": {
            "text/plain": [
              "{\n",
              "    \"assetId\": \"azureml://locations/eastus/workspaces/baa12598-6763-4066-ba2b-c1c6ff29bfdb/environments/Diabetes_env/versions/2\",\n",
              "    \"databricks\": {\n",
              "        \"eggLibraries\": [],\n",
              "        \"jarLibraries\": [],\n",
              "        \"mavenLibraries\": [],\n",
              "        \"pypiLibraries\": [],\n",
              "        \"rcranLibraries\": []\n",
              "    },\n",
              "    \"docker\": {\n",
              "        \"arguments\": [],\n",
              "        \"baseDockerfile\": null,\n",
              "        \"baseImage\": \"mcr.microsoft.com/azureml/openmpi4.1.0-ubuntu20.04:20230509.v1\",\n",
              "        \"baseImageRegistry\": {\n",
              "            \"address\": null,\n",
              "            \"password\": null,\n",
              "            \"registryIdentity\": null,\n",
              "            \"username\": null\n",
              "        },\n",
              "        \"buildContext\": null,\n",
              "        \"enabled\": false,\n",
              "        \"platform\": {\n",
              "            \"architecture\": \"amd64\",\n",
              "            \"os\": \"Linux\"\n",
              "        },\n",
              "        \"sharedVolumes\": true,\n",
              "        \"shmSize\": null\n",
              "    },\n",
              "    \"environmentVariables\": {\n",
              "        \"EXAMPLE_ENV_VAR\": \"EXAMPLE_VALUE\"\n",
              "    },\n",
              "    \"inferencingStackVersion\": null,\n",
              "    \"name\": \"Diabetes_env\",\n",
              "    \"python\": {\n",
              "        \"baseCondaEnvironment\": null,\n",
              "        \"condaDependencies\": {\n",
              "            \"channels\": [\n",
              "                \"anaconda\",\n",
              "                \"conda-forge\"\n",
              "            ],\n",
              "            \"dependencies\": [\n",
              "                \"python=3.8.13\",\n",
              "                {\n",
              "                    \"pip\": [\n",
              "                        \"azureml-defaults~=1.51.0\",\n",
              "                        \"inference-schema[numpy-suport]\",\n",
              "                        \"numpy\",\n",
              "                        \"scikit-learn==0.22.1\",\n",
              "                        \"scipy\"\n",
              "                    ]\n",
              "                },\n",
              "                \"pip==20.2.4\"\n",
              "            ],\n",
              "            \"name\": \"project_environment\"\n",
              "        },\n",
              "        \"condaDependenciesFile\": null,\n",
              "        \"interpreterPath\": \"python\",\n",
              "        \"userManagedDependencies\": false\n",
              "    },\n",
              "    \"r\": null,\n",
              "    \"spark\": {\n",
              "        \"packages\": [],\n",
              "        \"precachePackages\": true,\n",
              "        \"repositories\": []\n",
              "    },\n",
              "    \"version\": \"2\"\n",
              "}"
            ]
          },
          "execution_count": 22,
          "metadata": {},
          "output_type": "execute_result"
        }
      ],
      "source": [
        "Diabetes_env = Environment(name='Diabetes_env')\n",
        "\n",
        "# Define the conda and pip dependencies\n",
        "conda_deps = ['pip==20.2.4']\n",
        "pip_deps = ['azureml-defaults', 'inference-schema[numpy-suport]', 'numpy', 'scikit-learn==0.22.1', 'scipy']\n",
        "\n",
        "# Set the dependencies in the environment\n",
        "Diabetes_env.python.conda_dependencies = CondaDependencies.create(conda_packages=conda_deps, pip_packages=pip_deps)\n",
        "\n",
        "# Register the environment\n",
        "Diabetes_env.register(workspace=ws)"
      ]
    },
    {
      "cell_type": "code",
      "execution_count": null,
      "metadata": {
        "id": "H4ENpRCOUlsS"
      },
      "outputs": [],
      "source": [
        "from azureml.core.compute import AksCompute, ComputeTarget\n",
        "\n",
        "cluster_name = 'bon'\n",
        "\n",
        "if cluster_name not in ws.compute_targets:\n",
        "    aks_config = AksCompute.provisioning_configuration(location='eastus',\n",
        "                                                       vm_size='STANDARD_D11_V2',\n",
        "                                                       agent_count=1,\n",
        "                                                       cluster_purpose='DevTest')\n",
        "\n",
        "\n",
        "    production_cluster = ComputeTarget.create(ws, cluster_name, aks_config)\n",
        "    production_cluster.wait_for_completion(show_output=True)\n",
        "else:\n",
        "    production_cluster = ws.compute_targets[cluster_name]\n",
        "\n",
        "\n",
        "#Allocating a compute target if there is none    "
      ]
    },
    {
      "cell_type": "code",
      "execution_count": null,
      "metadata": {
        "id": "tgx0wnlHU4Ah"
      },
      "outputs": [],
      "source": [
        "from azureml.core.model import InferenceConfig"
      ]
    },
    {
      "cell_type": "code",
      "execution_count": null,
      "metadata": {
        "id": "ZY5GwuBBU-rz"
      },
      "outputs": [],
      "source": [
        "inference_config = InferenceConfig(entry_script='entry.py',\n",
        "                                   source_directory='.',\n",
        "                                   environment = Diabetes_env)\n",
        "\n",
        "#Defining a inference config"
      ]
    },
    {
      "cell_type": "code",
      "execution_count": null,
      "metadata": {
        "id": "GXxh9_GnaGKi"
      },
      "outputs": [],
      "source": [
        "namespace_name='endpoint'\n",
        "version_name= 'version1'"
      ]
    },
    {
      "cell_type": "code",
      "execution_count": null,
      "metadata": {
        "id": "o5GWGg9EaXZQ"
      },
      "outputs": [],
      "source": [
        "from azureml.core.webservice import AksEndpoint"
      ]
    },
    {
      "cell_type": "code",
      "execution_count": null,
      "metadata": {
        "id": "DVBBCdMVbguO"
      },
      "outputs": [],
      "source": [
        "endpoint_deployment_config = AksEndpoint.deploy_configuration(tags={'modelVersion':'First','department':'Medical'},\n",
        "                                                              description='new version',\n",
        "                                                              namespace=namespace_name,\n",
        "                                                              version_name=version_name,\n",
        "                                                              traffic_percentile=10)\n",
        "\n",
        "#Providing the deployement configuration"
      ]
    },
    {
      "cell_type": "code",
      "execution_count": null,
      "metadata": {
        "id": "lFHkeTkvdfcC"
      },
      "outputs": [],
      "source": [
        "compute= ComputeTarget(workspace=ws,name='bon')\n",
        "endpoint_name='endpoint'"
      ]
    },
    {
      "cell_type": "code",
      "execution_count": null,
      "metadata": {
        "id": "AuzAQRsiccP9"
      },
      "outputs": [],
      "source": [
        "endpoint= Model.deploy(workspace=ws,\n",
        "                       name=endpoint_name,\n",
        "                       models=[model],\n",
        "                       inference_config=inference_config,\n",
        "                       deployment_config=endpoint_deployment_config,\n",
        "                       deployment_target=compute)\n",
        "endpoint.wait_for_deployment(True)\n",
        "\n",
        "#Deploying The model in a real time end point in azure"
      ]
    }
  ],
  "metadata": {
    "colab": {
      "provenance": []
    },
    "kernelspec": {
      "display_name": "Python 3",
      "name": "python3"
    },
    "language_info": {
      "name": "python"
    }
  },
  "nbformat": 4,
  "nbformat_minor": 0
}
